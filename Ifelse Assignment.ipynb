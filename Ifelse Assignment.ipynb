{
 "cells": [
  {
   "cell_type": "markdown",
   "id": "1e012185-0295-411b-ba5f-f0865e8402c5",
   "metadata": {},
   "source": [
    "## ASSIGNMENT IF, ELIF, ELSE "
   ]
  },
  {
   "cell_type": "markdown",
   "id": "b2e0f01d-8dec-453e-99be-8d4b096da4f3",
   "metadata": {},
   "source": [
    "Write a Python program that takes an integer input and checks whether the number is even or odd."
   ]
  },
  {
   "cell_type": "code",
   "execution_count": 11,
   "id": "375f3e92-b6c5-4243-8631-d0f6aad0b332",
   "metadata": {
    "scrolled": true
   },
   "outputs": [
    {
     "name": "stdin",
     "output_type": "stream",
     "text": [
      "Enter a number:  5\n"
     ]
    },
    {
     "name": "stdout",
     "output_type": "stream",
     "text": [
      "The number is odd\n"
     ]
    }
   ],
   "source": [
    "num=(input(\"Enter a number: \"))\n",
    "number=int(num)\n",
    "\n",
    "if number % 2== 0:\n",
    "    print (\"The number is even\")\n",
    "else:\n",
    "    print (\"The number is odd\")"
   ]
  },
  {
   "cell_type": "markdown",
   "id": "9def8fde-ce3b-4c63-8bc5-67a57bd1219d",
   "metadata": {},
   "source": [
    "Write a Python program to input a student's marks and print \"Pass\" if the marks are 40 or above; otherwise,\n",
    "print \"Fail.\""
   ]
  },
  {
   "cell_type": "code",
   "execution_count": 19,
   "id": "4e2868fa-cb9f-42c2-8f42-0e754a454b9e",
   "metadata": {},
   "outputs": [
    {
     "name": "stdin",
     "output_type": "stream",
     "text": [
      "Enter marks 45\n"
     ]
    },
    {
     "name": "stdout",
     "output_type": "stream",
     "text": [
      "You are pass\n"
     ]
    }
   ],
   "source": [
    "marks= int(input(\"Enter marks\"))\n",
    "\n",
    "if marks >= 40:\n",
    "    print(\"You are pass\")\n",
    "else:\n",
    "    print(\"you are fail\")"
   ]
  },
  {
   "cell_type": "markdown",
   "id": "d447355b-aa73-4a1d-8b45-14c74af0a4b9",
   "metadata": {},
   "source": [
    "Write a program that takes an integer as input and determines if it is positive, negative, or zero."
   ]
  },
  {
   "cell_type": "code",
   "execution_count": 46,
   "id": "405bbff8-1594-4fff-95f2-c4b804863ce9",
   "metadata": {},
   "outputs": [
    {
     "name": "stdin",
     "output_type": "stream",
     "text": [
      "Enter a number 4\n"
     ]
    },
    {
     "name": "stdout",
     "output_type": "stream",
     "text": [
      "The number is positive\n"
     ]
    }
   ],
   "source": [
    "num=int(input(\"Enter a number\"))\n",
    "\n",
    "if num>0:\n",
    "    print(\"The number is positive\")\n",
    "elif num<0:\n",
    "    print(\"The number is negative\")\n",
    "else:\n",
    "    print(\"The number is zero\")"
   ]
  },
  {
   "cell_type": "markdown",
   "id": "3ee91758-c29f-41ac-9339-691fa3554e44",
   "metadata": {},
   "source": [
    "Write a Python program that inputs two numbers and prints which one is greater. If they are equal, print \"Both\n",
    "are equal.\""
   ]
  },
  {
   "cell_type": "code",
   "execution_count": 44,
   "id": "6f2549ad-2fb0-42d0-9ae9-4513a5ec6020",
   "metadata": {},
   "outputs": [
    {
     "name": "stdin",
     "output_type": "stream",
     "text": [
      "Enter first numner 2\n",
      "Enter second number 4\n"
     ]
    },
    {
     "name": "stdout",
     "output_type": "stream",
     "text": [
      "Number 02 is greater\n"
     ]
    }
   ],
   "source": [
    "num1=int(input(\"Enter first numner\"))\n",
    "num2=int(input(\"Enter second number\"))\n",
    "\n",
    "if num1>num2:\n",
    "    print(\"Number 01 is greater\")\n",
    "elif num2>num1:\n",
    "    print(\"Number 02 is greater\")\n",
    "else:\n",
    "    print(\"Both are equal\")"
   ]
  },
  {
   "cell_type": "markdown",
   "id": "90459a50-5a8e-430a-92bd-0c6218325b56",
   "metadata": {},
   "source": [
    "Write a program that takes a year as input and determines if it is a leap year. A year is a leap year if it is divisible\n",
    "by 4 but not divisible by 100, except if it is also divisible by 400."
   ]
  },
  {
   "cell_type": "code",
   "execution_count": 59,
   "id": "6fc7d3ba-a154-430c-9a4c-87ef8b63065c",
   "metadata": {},
   "outputs": [
    {
     "name": "stdin",
     "output_type": "stream",
     "text": [
      "Enter year 8\n"
     ]
    },
    {
     "name": "stdout",
     "output_type": "stream",
     "text": [
      "It is leap year\n"
     ]
    }
   ],
   "source": [
    "year=int(input(\"Enter year\"))\n",
    "\n",
    "if year % 4 ==0:\n",
    "    print(\"It is leap year\")\n",
    "elif year % 100 == 0:\n",
    "    print(\"It os not a leap year\")\n",
    "elif year % 400 == 0:\n",
    "    print(\"It is a leap year\")\n",
    "else:\n",
    "    print(\"It is not a leap year\")\n"
   ]
  },
  {
   "cell_type": "markdown",
   "id": "e69175e7-c4c4-42ca-95ab-b99628436efe",
   "metadata": {},
   "source": [
    "Write a Python program that takes marks as input and prints the grade using the following conditions:\n",
    "90 and above: \"A\"\n",
    "80 to 89: \"B\"\n",
    "70 to 79: \"C\"\n",
    "60 to 69: \"D\"\n",
    "Below 60: \"F\""
   ]
  },
  {
   "cell_type": "code",
   "execution_count": 64,
   "id": "b03d2306-1e3a-479d-8508-34073a905181",
   "metadata": {},
   "outputs": [
    {
     "name": "stdin",
     "output_type": "stream",
     "text": [
      "Enter marks:  76\n"
     ]
    },
    {
     "name": "stdout",
     "output_type": "stream",
     "text": [
      "Grade C\n"
     ]
    }
   ],
   "source": [
    "marks = int(input(\"Enter marks: \"))\n",
    "if marks >= 90:\n",
    "    print(\"Grade A\")\n",
    "elif marks >= 80:\n",
    "    print(\"Grade B\")\n",
    "elif marks >= 70:\n",
    "    print(\"Grade C\")\n",
    "elif marks >= 60:\n",
    "    print(\"Grade D\")\n",
    "else:\n",
    "    print(\"Grade F\")"
   ]
  },
  {
   "cell_type": "markdown",
   "id": "6fa6116d-add5-4b38-8af7-36badee9c0a3",
   "metadata": {},
   "source": [
    "Write a program that takes three side lengths of a triangle as input and checks if they form a valid triangle. A\n",
    "triangle is valid if the sum of any two sides is greater than the third side."
   ]
  },
  {
   "cell_type": "code",
   "execution_count": 70,
   "id": "f7a01d90-965b-4be3-bbfd-1ef678861230",
   "metadata": {},
   "outputs": [
    {
     "name": "stdin",
     "output_type": "stream",
     "text": [
      "Enter first side:  4\n",
      "Enter second side:  7\n",
      "Enter third side:  9\n"
     ]
    },
    {
     "name": "stdout",
     "output_type": "stream",
     "text": [
      "Valid Triangle\n"
     ]
    }
   ],
   "source": [
    "a = int(input(\"Enter first side: \"))\n",
    "b = int(input(\"Enter second side: \"))\n",
    "c = int(input(\"Enter third side: \"))\n",
    "\n",
    "if a+b>c:\n",
    "    print(\"Valid Triangle\")\n",
    "elif b+c>a:\n",
    "    print(\"Valid Triangle\")\n",
    "elif a+c>b:\n",
    "    print(\"Valid Triangle\")\n",
    "else: \n",
    "    print(\"Invalid Triangle\")"
   ]
  },
  {
   "cell_type": "markdown",
   "id": "20fd3368-7219-49f6-9f5d-3de32e2fa762",
   "metadata": {},
   "source": [
    "Write a Python program that asks the user for their age and nationality. Print \"Eligible to Vote\" if the age is 18 or\n",
    "above and nationality is \"Indian.\" Otherwise, print \"Not Eligible to Vote.\""
   ]
  },
  {
   "cell_type": "code",
   "execution_count": 78,
   "id": "262ac4ed-2887-49f3-a208-15e8fbc4d892",
   "metadata": {
    "scrolled": true
   },
   "outputs": [
    {
     "name": "stdin",
     "output_type": "stream",
     "text": [
      "Enter your age 22\n",
      "Enter your nationality Indian\n"
     ]
    },
    {
     "name": "stdout",
     "output_type": "stream",
     "text": [
      "You are eligible\n"
     ]
    }
   ],
   "source": [
    "age=int(input(\"Enter your age\"))\n",
    "nat=input(\"Enter your nationality\")\n",
    "\n",
    "if age>18 and nat.lower() == \"indian\":\n",
    "    print(\"You are eligible\")\n",
    "else:\n",
    "    print(\"You are not eligible\")"
   ]
  },
  {
   "cell_type": "markdown",
   "id": "48c4dd99-b811-4aaa-9649-bf31eee341b9",
   "metadata": {},
   "source": [
    "Write a Python program that takes an integer as input and classifies it:\n",
    "If divisible by 2 and 3, print \"Divisible by both 2 and 3.\"\n",
    "If divisible by only 2, print \"Divisible by 2.\"\n",
    "If divisible by only 3, print \"Divisible by 3.\"\n",
    "Otherwise, print \"Not divisible by 2 or 3.\""
   ]
  },
  {
   "cell_type": "code",
   "execution_count": 92,
   "id": "630f15f2-241d-4332-a3df-7a257b8988b6",
   "metadata": {},
   "outputs": [
    {
     "name": "stdin",
     "output_type": "stream",
     "text": [
      "Enter a number:  12\n"
     ]
    },
    {
     "name": "stdout",
     "output_type": "stream",
     "text": [
      "Divisible by both 2 and 3\n"
     ]
    }
   ],
   "source": [
    "num = int(input(\"Enter a number: \"))\n",
    "if num % 6 == 0:\n",
    "    print(\"Divisible by both 2 and 3\")\n",
    "elif num % 2 == 0:\n",
    "    print(\"Divisible by 2\")\n",
    "elif num % 3 == 0:\n",
    "    print(\"Divisible by 3\")\n",
    "else:\n",
    "    print(\"Not divisible by 2 or 3\")"
   ]
  },
  {
   "cell_type": "markdown",
   "id": "f76bb59e-3ca0-499f-ac3e-a19e943eb9d9",
   "metadata": {},
   "source": [
    "Write a Python program that takes three numbers as input and prints the largest number using nested if-else\n",
    "statements."
   ]
  },
  {
   "cell_type": "code",
   "execution_count": 97,
   "id": "fcc96941-f3a5-4bdb-8901-c024c26138af",
   "metadata": {},
   "outputs": [
    {
     "name": "stdin",
     "output_type": "stream",
     "text": [
      "Enter first number:  56\n",
      "Enter second number:  89\n",
      "Enter third number:  76\n"
     ]
    },
    {
     "name": "stdout",
     "output_type": "stream",
     "text": [
      "89.0 is the largest number.\n"
     ]
    }
   ],
   "source": [
    "    num1 = float(input(\"Enter first number: \"))\n",
    "    num2 = float(input(\"Enter second number: \"))\n",
    "    num3 = float(input(\"Enter third number: \"))\n",
    "    \n",
    "    if num1 > num2 and num1 > num3:\n",
    "        print(f\"{num1} is the largest number.\")\n",
    "    elif num2 > num1 and num2 > num3:\n",
    "        print(f\"{num2} is the largest number.\")\n",
    "    elif num3 > num1 and num3 > num2:\n",
    "        print(f\"{num3} is the largest number.\")\n",
    "    else:\n",
    "        print(\"There are two or more equal numbers.\")"
   ]
  }
 ],
 "metadata": {
  "kernelspec": {
   "display_name": "Python 3 (ipykernel)",
   "language": "python",
   "name": "python3"
  },
  "language_info": {
   "codemirror_mode": {
    "name": "ipython",
    "version": 3
   },
   "file_extension": ".py",
   "mimetype": "text/x-python",
   "name": "python",
   "nbconvert_exporter": "python",
   "pygments_lexer": "ipython3",
   "version": "3.12.7"
  }
 },
 "nbformat": 4,
 "nbformat_minor": 5
}
