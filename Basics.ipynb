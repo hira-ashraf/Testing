{
 "cells": [
  {
   "cell_type": "markdown",
   "id": "1776f63f",
   "metadata": {},
   "source": [
    "### Assignment-02\n",
    "- Change the notebook name with your name and Roll Number.\n",
    "- Try this as your own, no chatgpt (it's for your learning)\n",
    "- after completing the assignment, submit this book on google class room."
   ]
  },
  {
   "cell_type": "markdown",
   "id": "5bc28c35",
   "metadata": {},
   "source": [
    "Declare and print a variable with the name \"name\" containing your name.\n"
   ]
  },
  {
   "cell_type": "code",
   "execution_count": 5,
   "id": "4eb1e464",
   "metadata": {},
   "outputs": [],
   "source": [
    "name =\"Hira Ashraf\""
   ]
  },
  {
   "cell_type": "code",
   "execution_count": 7,
   "id": "0a1cf8ff-3167-4f21-8870-48c0c2977f4b",
   "metadata": {},
   "outputs": [
    {
     "name": "stdout",
     "output_type": "stream",
     "text": [
      "Hira Ashraf\n"
     ]
    }
   ],
   "source": [
    "print(name)"
   ]
  },
  {
   "cell_type": "markdown",
   "id": "b66e672b",
   "metadata": {},
   "source": [
    "Create two variables, x and y, and swap their values without using a third variable.\n"
   ]
  },
  {
   "cell_type": "code",
   "execution_count": null,
   "id": "5734b25c",
   "metadata": {},
   "outputs": [],
   "source": [
    "x= 10\n",
    "y= 20"
   ]
  },
  {
   "cell_type": "code",
   "execution_count": 15,
   "id": "ad94c064-ee02-4be5-be61-5bd9f1d6378e",
   "metadata": {},
   "outputs": [
    {
     "name": "stdout",
     "output_type": "stream",
     "text": [
      "x:  20\n",
      "y:  10\n"
     ]
    }
   ],
   "source": [
    "x, y = y, x\n",
    "\n",
    "print(\"x: \", x)\n",
    "print(\"y: \", y)"
   ]
  },
  {
   "cell_type": "markdown",
   "id": "68c5f126",
   "metadata": {},
   "source": [
    "Calculate the area of a rectangle with length and width stored in variables.\n"
   ]
  },
  {
   "cell_type": "code",
   "execution_count": 17,
   "id": "efead34a",
   "metadata": {},
   "outputs": [],
   "source": [
    "length=50\n",
    "width=25"
   ]
  },
  {
   "cell_type": "code",
   "execution_count": 19,
   "id": "8b20b37c-513c-43c7-a20a-8c66bd07ef63",
   "metadata": {},
   "outputs": [
    {
     "name": "stdout",
     "output_type": "stream",
     "text": [
      "1250\n"
     ]
    }
   ],
   "source": [
    "area=length*width\n",
    "\n",
    "print(area)"
   ]
  },
  {
   "cell_type": "markdown",
   "id": "e452ae4d",
   "metadata": {},
   "source": [
    "Create a variable with a long string (multi-line) and print its length."
   ]
  },
  {
   "cell_type": "code",
   "execution_count": 62,
   "id": "0f7d6636",
   "metadata": {},
   "outputs": [],
   "source": [
    "Earth= \"\"\"The Earth is the only planet known to support life.\n",
    "It has a diverse ecosystem and various natural resources.\n",
    "Protecting its resources is essential for future generations.\"\"\""
   ]
  },
  {
   "cell_type": "code",
   "execution_count": 38,
   "id": "fe41a1cf-92f3-4823-9e77-57fa9c932908",
   "metadata": {},
   "outputs": [],
   "source": [
    "length=len(Earth)"
   ]
  },
  {
   "cell_type": "code",
   "execution_count": 58,
   "id": "92f0ccee-5dde-43ac-b2bc-096dd94e4e69",
   "metadata": {},
   "outputs": [
    {
     "name": "stdout",
     "output_type": "stream",
     "text": [
      "The length of string Earth is: 171\n"
     ]
    }
   ],
   "source": [
    "print(\"The length of string Earth is:\", length)"
   ]
  },
  {
   "cell_type": "markdown",
   "id": "708def01",
   "metadata": {},
   "source": [
    "Create a variable to store your favorite number and print it."
   ]
  },
  {
   "cell_type": "code",
   "execution_count": 44,
   "id": "d810e261",
   "metadata": {},
   "outputs": [],
   "source": [
    "fav_number=9"
   ]
  },
  {
   "cell_type": "code",
   "execution_count": 46,
   "id": "d684eeae-52d4-43d0-a217-cf2aab67539d",
   "metadata": {},
   "outputs": [
    {
     "name": "stdout",
     "output_type": "stream",
     "text": [
      "9\n"
     ]
    }
   ],
   "source": [
    "print(fav_number)"
   ]
  },
  {
   "cell_type": "markdown",
   "id": "9088a41e",
   "metadata": {},
   "source": [
    "Declare and assign values to multiple variables to represent the sides of a triangle. Calculate and print its perimeter.\n"
   ]
  },
  {
   "cell_type": "code",
   "execution_count": 48,
   "id": "13d9d2d2",
   "metadata": {},
   "outputs": [],
   "source": [
    "sideA=4\n",
    "sideB=4\n",
    "sideC=6"
   ]
  },
  {
   "cell_type": "code",
   "execution_count": 54,
   "id": "1507c1ea-e139-4d6a-aab9-72adc25cddf0",
   "metadata": {},
   "outputs": [],
   "source": [
    "perimeter= sideA + sideB + sideC"
   ]
  },
  {
   "cell_type": "code",
   "execution_count": 56,
   "id": "678dbe69-aeca-41ca-9621-3d87b3ca5098",
   "metadata": {},
   "outputs": [
    {
     "name": "stdout",
     "output_type": "stream",
     "text": [
      "14\n"
     ]
    }
   ],
   "source": [
    "print(perimeter)"
   ]
  },
  {
   "cell_type": "markdown",
   "id": "a76f2d4f",
   "metadata": {},
   "source": [
    "Store the price of an item in one variable and the quantity in another. Calculate and print the total cost.\n"
   ]
  },
  {
   "cell_type": "code",
   "execution_count": 1,
   "id": "8cc9115b",
   "metadata": {},
   "outputs": [],
   "source": [
    "price=200 #per item\n",
    "quantity=5"
   ]
  },
  {
   "cell_type": "code",
   "execution_count": 5,
   "id": "75c37bcb-6997-4413-8754-700eadbd3802",
   "metadata": {},
   "outputs": [],
   "source": [
    "total_cost = price*quantity"
   ]
  },
  {
   "cell_type": "code",
   "execution_count": 7,
   "id": "ac482460-d90f-4b6a-896b-8b447bd6d107",
   "metadata": {},
   "outputs": [
    {
     "name": "stdout",
     "output_type": "stream",
     "text": [
      "1000\n"
     ]
    }
   ],
   "source": [
    "print(total_cost)"
   ]
  },
  {
   "cell_type": "markdown",
   "id": "7d9d0793",
   "metadata": {},
   "source": [
    "Declare a constant variable for the value of pi (π) and use it to calculate the circumference of a circle with a given radius."
   ]
  },
  {
   "cell_type": "code",
   "execution_count": 9,
   "id": "254f3e92",
   "metadata": {},
   "outputs": [],
   "source": [
    "pi=3.14 \n",
    "radius=250"
   ]
  },
  {
   "cell_type": "code",
   "execution_count": 15,
   "id": "1a7f2e7f-c3fa-43d4-82eb-4934260e8a29",
   "metadata": {},
   "outputs": [
    {
     "name": "stdout",
     "output_type": "stream",
     "text": [
      "1570.0\n"
     ]
    }
   ],
   "source": [
    "Circumference = 2 * pi * radius\n",
    "print(Circumference)"
   ]
  },
  {
   "cell_type": "markdown",
   "id": "2415eca0",
   "metadata": {},
   "source": [
    "Calculate the sum of two numbers, a and b."
   ]
  },
  {
   "cell_type": "code",
   "execution_count": 17,
   "id": "8eeee19d",
   "metadata": {},
   "outputs": [],
   "source": [
    "a=5\n",
    "b=6"
   ]
  },
  {
   "cell_type": "code",
   "execution_count": 23,
   "id": "f3169b26-3280-4b7e-91df-d5bebcc32729",
   "metadata": {},
   "outputs": [
    {
     "name": "stdout",
     "output_type": "stream",
     "text": [
      "11\n"
     ]
    }
   ],
   "source": [
    "sum=a+b\n",
    "print(sum)"
   ]
  },
  {
   "cell_type": "markdown",
   "id": "2f3f9653",
   "metadata": {},
   "source": [
    "Calculate the product of two numbers, a and b.\n"
   ]
  },
  {
   "cell_type": "code",
   "execution_count": 25,
   "id": "baac0709",
   "metadata": {},
   "outputs": [],
   "source": [
    "a=6\n",
    "b=5"
   ]
  },
  {
   "cell_type": "code",
   "execution_count": 27,
   "id": "8d78e05b-f4c2-4e3b-9a09-16840345e5c0",
   "metadata": {},
   "outputs": [
    {
     "name": "stdout",
     "output_type": "stream",
     "text": [
      "30\n"
     ]
    }
   ],
   "source": [
    "product=a*b\n",
    "print(product)"
   ]
  },
  {
   "cell_type": "markdown",
   "id": "263bb83b",
   "metadata": {},
   "source": [
    "Calculate the result of dividing a by b (with proper error handling for division by zero).\n"
   ]
  },
  {
   "cell_type": "code",
   "execution_count": 68,
   "id": "783ef794",
   "metadata": {},
   "outputs": [],
   "source": [
    "a=4\n",
    "b=0"
   ]
  },
  {
   "cell_type": "code",
   "execution_count": 70,
   "id": "c5cccab4-fc9c-4961-bcb3-5d1cee571efd",
   "metadata": {},
   "outputs": [
    {
     "ename": "ZeroDivisionError",
     "evalue": "division by zero",
     "output_type": "error",
     "traceback": [
      "\u001b[1;31m---------------------------------------------------------------------------\u001b[0m",
      "\u001b[1;31mZeroDivisionError\u001b[0m                         Traceback (most recent call last)",
      "Cell \u001b[1;32mIn[70], line 1\u001b[0m\n\u001b[1;32m----> 1\u001b[0m result\u001b[38;5;241m=\u001b[39m a\u001b[38;5;241m/\u001b[39mb\n",
      "\u001b[1;31mZeroDivisionError\u001b[0m: division by zero"
     ]
    }
   ],
   "source": [
    "result= a/b"
   ]
  },
  {
   "cell_type": "code",
   "execution_count": 74,
   "id": "05fc9d2e-0cc3-4fe9-a1b2-289cdb4b25f4",
   "metadata": {},
   "outputs": [
    {
     "name": "stdout",
     "output_type": "stream",
     "text": [
      "Error: Division by zero is not possible.\n"
     ]
    }
   ],
   "source": [
    "if b != 0:  \n",
    "    result = a / b\n",
    "    print(\"The result of division is:\", result)\n",
    "else:  \n",
    "    print(\"Error: Division by zero is not possible.\")\n"
   ]
  },
  {
   "cell_type": "markdown",
   "id": "1160a016",
   "metadata": {},
   "source": [
    "Calculate the square of a number x."
   ]
  },
  {
   "cell_type": "code",
   "execution_count": 86,
   "id": "ba1443de",
   "metadata": {},
   "outputs": [
    {
     "name": "stdout",
     "output_type": "stream",
     "text": [
      "3.4641016151377544\n"
     ]
    }
   ],
   "source": [
    "x= 12\n",
    "sqrt=x**0.5\n",
    "print(sqrt)"
   ]
  },
  {
   "cell_type": "markdown",
   "id": "927cffd3",
   "metadata": {},
   "source": [
    "Calculate the remainder when a is divided by b."
   ]
  },
  {
   "cell_type": "code",
   "execution_count": 88,
   "id": "f95b1e5c",
   "metadata": {},
   "outputs": [],
   "source": [
    "x=76\n",
    "y=5"
   ]
  },
  {
   "cell_type": "code",
   "execution_count": 90,
   "id": "6c8940bd-be54-4530-9002-f9e81cfca6ba",
   "metadata": {},
   "outputs": [
    {
     "name": "stdout",
     "output_type": "stream",
     "text": [
      "1\n"
     ]
    }
   ],
   "source": [
    "result= x%y\n",
    "print(result)"
   ]
  },
  {
   "cell_type": "markdown",
   "id": "fad0381a",
   "metadata": {},
   "source": [
    " Calculate the result of dividing 17 by 3 and print the quotient and remainder."
   ]
  },
  {
   "cell_type": "code",
   "execution_count": 92,
   "id": "6bbe2ffb",
   "metadata": {},
   "outputs": [],
   "source": [
    "x=17\n",
    "y=3"
   ]
  },
  {
   "cell_type": "code",
   "execution_count": 94,
   "id": "5842d933-3616-4130-836c-ca86ac6ffa9a",
   "metadata": {},
   "outputs": [],
   "source": [
    "remainder= x%y\n",
    "quotient= x//y"
   ]
  },
  {
   "cell_type": "code",
   "execution_count": 96,
   "id": "75ff97b4-7b1b-4104-8d3d-29c3d838f385",
   "metadata": {},
   "outputs": [
    {
     "name": "stdout",
     "output_type": "stream",
     "text": [
      "The remainder is:  2\n",
      "The quotient is:  5\n"
     ]
    }
   ],
   "source": [
    "print(\"The remainder is: \", remainder)\n",
    "print(\"The quotient is: \", quotient)"
   ]
  },
  {
   "cell_type": "markdown",
   "id": "0abdb0ba",
   "metadata": {},
   "source": [
    "Calculate the area of a square with a given side length.\n"
   ]
  },
  {
   "cell_type": "code",
   "execution_count": 100,
   "id": "4a0edefb",
   "metadata": {},
   "outputs": [],
   "source": [
    "length= 4"
   ]
  },
  {
   "cell_type": "code",
   "execution_count": 102,
   "id": "9f0941fe-538c-4205-b026-76e2bf2ce651",
   "metadata": {},
   "outputs": [
    {
     "name": "stdout",
     "output_type": "stream",
     "text": [
      "16\n"
     ]
    }
   ],
   "source": [
    "area= length*length \n",
    "print(area)"
   ]
  },
  {
   "cell_type": "markdown",
   "id": "0c15704a",
   "metadata": {},
   "source": [
    "Calculate the average of five numbers.\n"
   ]
  },
  {
   "cell_type": "code",
   "execution_count": 140,
   "id": "ae66922d",
   "metadata": {},
   "outputs": [
    {
     "name": "stdout",
     "output_type": "stream",
     "text": [
      "6.0\n"
     ]
    }
   ],
   "source": [
    "numbers= [2, 4, 6, 8, 10]\n",
    "average= sum(numbers) / len(numbers)\n",
    "print(average)"
   ]
  },
  {
   "cell_type": "code",
   "execution_count": null,
   "id": "e311ecff-6be1-4372-ac2c-fb9ea6963e63",
   "metadata": {},
   "outputs": [],
   "source": []
  },
  {
   "cell_type": "markdown",
   "id": "da3cde84",
   "metadata": {},
   "source": [
    "Create a variable with a boolean value and print its opposite value.\n"
   ]
  },
  {
   "cell_type": "code",
   "execution_count": 142,
   "id": "0bb430b5",
   "metadata": {},
   "outputs": [],
   "source": [
    "x= True "
   ]
  },
  {
   "cell_type": "code",
   "execution_count": 144,
   "id": "4c9a9738-33b8-4f21-bfa5-7283dc50f5e3",
   "metadata": {},
   "outputs": [
    {
     "name": "stdout",
     "output_type": "stream",
     "text": [
      "False\n"
     ]
    }
   ],
   "source": [
    "print(not x)"
   ]
  },
  {
   "cell_type": "markdown",
   "id": "d800b510",
   "metadata": {},
   "source": [
    "Store your birth year in a variable and calculate your age."
   ]
  },
  {
   "cell_type": "code",
   "execution_count": 146,
   "id": "94ac0a22",
   "metadata": {},
   "outputs": [],
   "source": [
    "birth_year= 2002 \n",
    "current_year=2024"
   ]
  },
  {
   "cell_type": "code",
   "execution_count": 148,
   "id": "3f938348-aebd-4718-a603-1fcf10b4efd4",
   "metadata": {},
   "outputs": [],
   "source": [
    "age= current_year - birth_year"
   ]
  },
  {
   "cell_type": "code",
   "execution_count": 150,
   "id": "2b1fffba-725d-48bb-bcdc-36cab9e0e793",
   "metadata": {},
   "outputs": [
    {
     "name": "stdout",
     "output_type": "stream",
     "text": [
      "22\n"
     ]
    }
   ],
   "source": [
    "print(age)"
   ]
  },
  {
   "cell_type": "code",
   "execution_count": 158,
   "id": "900914e3-d756-4676-b6b7-efcaef6bb026",
   "metadata": {},
   "outputs": [
    {
     "name": "stdout",
     "output_type": "stream",
     "text": [
      "2024\n"
     ]
    }
   ],
   "source": [
    "current_year = datetime.now().year\n",
    "print(current_year)"
   ]
  },
  {
   "cell_type": "markdown",
   "id": "193bd0c7",
   "metadata": {},
   "source": [
    "Create a variable with an integer and convert it to a float."
   ]
  },
  {
   "cell_type": "code",
   "execution_count": 1,
   "id": "c862dfa4",
   "metadata": {},
   "outputs": [],
   "source": [
    "integer= 59"
   ]
  },
  {
   "cell_type": "code",
   "execution_count": 3,
   "id": "4da4bf1a-ace0-4807-abf4-c6baf022391b",
   "metadata": {},
   "outputs": [],
   "source": [
    "f_num=float(integer)"
   ]
  },
  {
   "cell_type": "code",
   "execution_count": 5,
   "id": "80d0569c-0d79-492b-9b53-fed7dc515a37",
   "metadata": {},
   "outputs": [
    {
     "name": "stdout",
     "output_type": "stream",
     "text": [
      "59\n",
      "59.0\n"
     ]
    }
   ],
   "source": [
    "print(integer)\n",
    "print(f_num)"
   ]
  },
  {
   "cell_type": "markdown",
   "id": "d6e985ae",
   "metadata": {},
   "source": [
    "Create a variable with a float and convert it to an integer."
   ]
  },
  {
   "cell_type": "code",
   "execution_count": 7,
   "id": "db782f94",
   "metadata": {},
   "outputs": [],
   "source": [
    "f_num=56.7\n",
    "integer=int(f_num)"
   ]
  },
  {
   "cell_type": "code",
   "execution_count": 11,
   "id": "cd295a11-8eed-43b1-b3c2-2814f8314506",
   "metadata": {},
   "outputs": [
    {
     "name": "stdout",
     "output_type": "stream",
     "text": [
      "56.7\n",
      "56\n"
     ]
    }
   ],
   "source": [
    "print(f_num)\n",
    "print(integer)"
   ]
  },
  {
   "cell_type": "code",
   "execution_count": null,
   "id": "15ad1191-b885-4151-bdbd-bee4c497731c",
   "metadata": {},
   "outputs": [],
   "source": []
  },
  {
   "cell_type": "markdown",
   "id": "03fbd24c",
   "metadata": {},
   "source": [
    "Create a variable with a string that represents an integer and convert it to an integer."
   ]
  },
  {
   "cell_type": "code",
   "execution_count": 17,
   "id": "15e98a9c",
   "metadata": {},
   "outputs": [],
   "source": [
    "string=\"357\"\n",
    "integer=int(string)"
   ]
  },
  {
   "cell_type": "code",
   "execution_count": 19,
   "id": "476feac7-4290-4785-8064-552aad28e548",
   "metadata": {},
   "outputs": [
    {
     "name": "stdout",
     "output_type": "stream",
     "text": [
      "357\n"
     ]
    }
   ],
   "source": [
    "print(string)"
   ]
  },
  {
   "cell_type": "markdown",
   "id": "7b82ee26",
   "metadata": {},
   "source": [
    "Create a variable with a string that represents a float and convert it to a float.\n"
   ]
  },
  {
   "cell_type": "code",
   "execution_count": 21,
   "id": "31b96ee5",
   "metadata": {},
   "outputs": [],
   "source": [
    "variable=\"34.66\"\n",
    "f_num=float(variable)"
   ]
  },
  {
   "cell_type": "code",
   "execution_count": 25,
   "id": "533eebb7-7183-4946-9bc5-88042e165679",
   "metadata": {},
   "outputs": [
    {
     "name": "stdout",
     "output_type": "stream",
     "text": [
      "34.66\n"
     ]
    }
   ],
   "source": [
    "print(f_num)"
   ]
  },
  {
   "cell_type": "markdown",
   "id": "55b70302",
   "metadata": {},
   "source": [
    "Create a variable with a number and convert it to a string."
   ]
  },
  {
   "cell_type": "code",
   "execution_count": 28,
   "id": "191ca6c0",
   "metadata": {},
   "outputs": [],
   "source": [
    "no=234\n",
    "string=str(no)"
   ]
  },
  {
   "cell_type": "code",
   "execution_count": 30,
   "id": "d6adf433-b64f-4d47-a658-2e3b3a07953d",
   "metadata": {},
   "outputs": [
    {
     "name": "stdout",
     "output_type": "stream",
     "text": [
      "234\n"
     ]
    }
   ],
   "source": [
    "print(string)"
   ]
  },
  {
   "cell_type": "markdown",
   "id": "12030234",
   "metadata": {},
   "source": [
    "Calculate the absolute value of a number.\n",
    "\n"
   ]
  },
  {
   "cell_type": "code",
   "execution_count": 34,
   "id": "e6e2dbb2",
   "metadata": {},
   "outputs": [],
   "source": [
    "num = -65\n",
    "abs_num= abs(num)"
   ]
  },
  {
   "cell_type": "code",
   "execution_count": 36,
   "id": "aa365e23-44c3-43d8-808a-d14e38af6a27",
   "metadata": {},
   "outputs": [
    {
     "name": "stdout",
     "output_type": "stream",
     "text": [
      "65\n"
     ]
    }
   ],
   "source": [
    "print(abs_num)"
   ]
  },
  {
   "cell_type": "markdown",
   "id": "0bcb4315",
   "metadata": {},
   "source": [
    "Calculate the square root of a number.\n"
   ]
  },
  {
   "cell_type": "code",
   "execution_count": 40,
   "id": "1ffc86be",
   "metadata": {},
   "outputs": [],
   "source": [
    "num= 4\n",
    "sq_num= num**0.5"
   ]
  },
  {
   "cell_type": "code",
   "execution_count": 42,
   "id": "836348b0-910e-4f14-b7fc-de8911ee183f",
   "metadata": {},
   "outputs": [
    {
     "name": "stdout",
     "output_type": "stream",
     "text": [
      "2.0\n"
     ]
    }
   ],
   "source": [
    "print(sq_num)"
   ]
  },
  {
   "cell_type": "markdown",
   "id": "3b8743eb",
   "metadata": {},
   "source": [
    "Calculate the value of a raised to the power of b.\n"
   ]
  },
  {
   "cell_type": "code",
   "execution_count": 44,
   "id": "d278563f",
   "metadata": {},
   "outputs": [],
   "source": [
    "a= 5\n",
    "b= 5"
   ]
  },
  {
   "cell_type": "code",
   "execution_count": 46,
   "id": "41c65c05",
   "metadata": {},
   "outputs": [
    {
     "name": "stdout",
     "output_type": "stream",
     "text": [
      "3125\n"
     ]
    }
   ],
   "source": [
    "result= pow(a, b)\n",
    "print(result)"
   ]
  },
  {
   "cell_type": "markdown",
   "id": "d06e7a77",
   "metadata": {},
   "source": [
    "Round a float to the nearest integer."
   ]
  },
  {
   "cell_type": "code",
   "execution_count": 48,
   "id": "2f5873c3",
   "metadata": {},
   "outputs": [],
   "source": [
    "f_num= 34.67\n",
    "r_num= round(f_num)"
   ]
  },
  {
   "cell_type": "code",
   "execution_count": 50,
   "id": "b8688345-20e5-47fc-9ce1-8864d4e51856",
   "metadata": {},
   "outputs": [
    {
     "name": "stdout",
     "output_type": "stream",
     "text": [
      "35\n"
     ]
    }
   ],
   "source": [
    "print(r_num)"
   ]
  },
  {
   "cell_type": "markdown",
   "id": "34f33237",
   "metadata": {},
   "source": [
    "Combine multiple conditions using logical operators and print the result."
   ]
  },
  {
   "cell_type": "code",
   "execution_count": 54,
   "id": "687d14b0",
   "metadata": {},
   "outputs": [],
   "source": [
    "a= 4\n",
    "b= 7"
   ]
  },
  {
   "cell_type": "code",
   "execution_count": 62,
   "id": "aa68291a-30f6-4d10-9f0a-77450ce963de",
   "metadata": {},
   "outputs": [
    {
     "name": "stdout",
     "output_type": "stream",
     "text": [
      "True\n"
     ]
    }
   ],
   "source": [
    "and_op= (a<b and b>5)\n",
    "print(and_op)"
   ]
  },
  {
   "cell_type": "code",
   "execution_count": 60,
   "id": "25b6ae08-e9be-4e2b-bcc7-19a1fb7ecee2",
   "metadata": {},
   "outputs": [
    {
     "name": "stdout",
     "output_type": "stream",
     "text": [
      "False\n"
     ]
    }
   ],
   "source": [
    "or_op= (a<b and b<5)\n",
    "print(or_op)"
   ]
  },
  {
   "cell_type": "code",
   "execution_count": 64,
   "id": "d8f4fa94-c22a-448f-86fe-920c0773986b",
   "metadata": {},
   "outputs": [
    {
     "name": "stdout",
     "output_type": "stream",
     "text": [
      "True\n"
     ]
    }
   ],
   "source": [
    "not_op= a!=b\n",
    "print(not_op)"
   ]
  },
  {
   "cell_type": "markdown",
   "id": "ab20128b",
   "metadata": {},
   "source": [
    "Generate a random number between 1 and 100.**(challenging)**\n"
   ]
  },
  {
   "cell_type": "code",
   "execution_count": 98,
   "id": "43ac553b",
   "metadata": {},
   "outputs": [],
   "source": [
    "import random\n",
    "\n",
    "a= random.randint(1, 100)"
   ]
  },
  {
   "cell_type": "code",
   "execution_count": 100,
   "id": "08b1a18f",
   "metadata": {},
   "outputs": [
    {
     "name": "stdout",
     "output_type": "stream",
     "text": [
      "44\n"
     ]
    }
   ],
   "source": [
    "print(a)"
   ]
  },
  {
   "cell_type": "code",
   "execution_count": 108,
   "id": "614ec84c",
   "metadata": {},
   "outputs": [
    {
     "name": "stdout",
     "output_type": "stream",
     "text": [
      "0.7131441101438287\n"
     ]
    }
   ],
   "source": [
    "import random #floating numbers \n",
    "\n",
    "b= random.random()\n",
    "print(b)"
   ]
  },
  {
   "cell_type": "code",
   "execution_count": null,
   "id": "1caa5eb8-bacc-46f3-9945-b6d1808eacd5",
   "metadata": {},
   "outputs": [],
   "source": []
  },
  {
   "cell_type": "code",
   "execution_count": null,
   "id": "440be592-9fb9-45a0-88cf-a606ca138062",
   "metadata": {},
   "outputs": [],
   "source": []
  }
 ],
 "metadata": {
  "kernelspec": {
   "display_name": "Python 3 (ipykernel)",
   "language": "python",
   "name": "python3"
  },
  "language_info": {
   "codemirror_mode": {
    "name": "ipython",
    "version": 3
   },
   "file_extension": ".py",
   "mimetype": "text/x-python",
   "name": "python",
   "nbconvert_exporter": "python",
   "pygments_lexer": "ipython3",
   "version": "3.12.7"
  }
 },
 "nbformat": 4,
 "nbformat_minor": 5
}
