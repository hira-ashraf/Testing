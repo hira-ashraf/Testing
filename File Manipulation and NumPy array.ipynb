{
 "cells": [
  {
   "cell_type": "markdown",
   "id": "47fb091c-06b5-4d71-bae9-4a6462cb9c61",
   "metadata": {},
   "source": [
    "# File Manipulation and NumPy Array"
   ]
  },
  {
   "cell_type": "markdown",
   "id": "fcc64074-61a3-4b82-af59-a9d15c9f5e74",
   "metadata": {},
   "source": [
    "Write a Python program to create a text file named student_scores.txt and write the data into it. \n",
    "Display the contents of the file after writing."
   ]
  },
  {
   "cell_type": "code",
   "execution_count": 1,
   "id": "a7eae721-bc0b-4f48-b195-10b7f2139ad5",
   "metadata": {},
   "outputs": [
    {
     "name": "stdout",
     "output_type": "stream",
     "text": [
      "Name,Math,Science,English\n",
      "Ali,85,90,88\n",
      "Bilal,78,82,89\n",
      "Raza,92,87,85\n",
      "\n"
     ]
    }
   ],
   "source": [
    "file = open(\"student_scores.txt\", \"w\")\n",
    "file.write(\"Name,Math,Science,English\\n\")\n",
    "file.write(\"Ali,85,90,88\\n\")\n",
    "file.write(\"Bilal,78,82,89\\n\")\n",
    "file.write(\"Raza,92,87,85\\n\")\n",
    "file.close()\n",
    "\n",
    "file = open(\"student_scores.txt\", \"r\")\n",
    "content = file.read()\n",
    "file.close()\n",
    "\n",
    "print(content)"
   ]
  },
  {
   "cell_type": "markdown",
   "id": "9787d8c2-23a2-43f9-994a-18d209d67c72",
   "metadata": {},
   "source": [
    "Read the data from student_scores.txt, extract the scores for each subject, and calculate the\n",
    "average score for Math, Science, and English. Write the averages to a new file named\n",
    "average_scores.txt."
   ]
  },
  {
   "cell_type": "code",
   "execution_count": 14,
   "id": "1005daf9-d692-4b55-b43a-4e1c216ff9ff",
   "metadata": {},
   "outputs": [
    {
     "name": "stdout",
     "output_type": "stream",
     "text": [
      "85.0\n"
     ]
    }
   ],
   "source": [
    "file=open(\"student_scores.txt\", \"r\")\n",
    "lines=file.readlines()\n",
    "file.close()\n",
    "\n",
    "math_scores = []\n",
    "science_scores = []\n",
    "english_scores = []\n",
    "\n",
    "for line in lines[1:]:\n",
    "    data = line.strip().split(\",\")\n",
    "    math_scores.append(int(data[1]))\n",
    "    science_scores.append(int(data[2]))\n",
    "    english_scores.append(int(data[3]))\n",
    "\n",
    "average_math = sum(math_scores) / len(math_scores)\n",
    "average_science = sum(science_scores) / len(science_scores)\n",
    "average_english = sum(english_scores) / len(english_scores)\n",
    "\n",
    "print(average_math)\n",
    "\n",
    "file = open(\"average_scores.txt\", \"w\")\n",
    "file.write(f\"{average_math}\\n{average_science}\\n{average_english}\\n\")\n",
    "file.close()"
   ]
  },
  {
   "cell_type": "markdown",
   "id": "241de1f4-b44b-4f92-b9a3-42e37a7bd4d7",
   "metadata": {},
   "source": [
    "Append a new record to student_scores.txt for a student named \"David\" with scores 88, 84,\n",
    "and 90 in Math, Science, and English, respectively. Display the updated file content."
   ]
  },
  {
   "cell_type": "code",
   "execution_count": 17,
   "id": "1ca2239e-55bb-47c7-a464-f6a1369f9af9",
   "metadata": {},
   "outputs": [
    {
     "name": "stdout",
     "output_type": "stream",
     "text": [
      "Name,Math,Science,English\n",
      "Ali,85,90,88\n",
      "Bilal,78,82,89\n",
      "Raza,92,87,85\n",
      "David,88,84,90\n",
      "\n"
     ]
    }
   ],
   "source": [
    "file=open(\"student_scores.txt\", \"a\")\n",
    "file.write(\"David,88,84,90\\n\")\n",
    "file.close()\n",
    "\n",
    "file=open(\"student_scores.txt\", \"r\")\n",
    "content=file.read()\n",
    "print(content)"
   ]
  },
  {
   "cell_type": "markdown",
   "id": "559e6bbf-9a81-4ce7-a8c1-a3ab3ca00c4f",
   "metadata": {},
   "source": [
    "Write a Python program to read the contents of student_scores.txt and count the number of\n",
    "students who scored above 85 in any subject."
   ]
  },
  {
   "cell_type": "code",
   "execution_count": 20,
   "id": "37c9c48d-823f-435e-b596-5909ec14bd7a",
   "metadata": {},
   "outputs": [
    {
     "name": "stdout",
     "output_type": "stream",
     "text": [
      "Number of students who scored above 85 in any subject: 4\n"
     ]
    }
   ],
   "source": [
    "file = open(\"student_scores.txt\", \"r\")\n",
    "lines = file.readlines()\n",
    "file.close()\n",
    "\n",
    "count = 0\n",
    "\n",
    "for line in lines[1:]:\n",
    "    data = line.strip().split(\",\")\n",
    "    if int(data[1]) > 85 or int(data[2]) > 85 or int(data[3]) > 85:\n",
    "        count += 1\n",
    "\n",
    "print(f\"Number of students who scored above 85 in any subject: {count}\")"
   ]
  },
  {
   "cell_type": "markdown",
   "id": "45ede2d9-5f2e-47a4-ace5-3df39a4f5a4e",
   "metadata": {},
   "source": [
    "Write a program to read a file data.txt containing space-separated numerical values in each\n",
    "line. Convert these values into a NumPy array and calculate:\n",
    "The mean of all numbers.\n",
    "The maximum value in the array."
   ]
  },
  {
   "cell_type": "code",
   "execution_count": 26,
   "id": "487773fb-e503-4585-96d8-d7488ed7de5a",
   "metadata": {},
   "outputs": [
    {
     "name": "stdout",
     "output_type": "stream",
     "text": [
      "data.txt file created successfully.\n",
      "Mean of all numbers: 49.666666666666664\n",
      "Maximum value: 90\n"
     ]
    }
   ],
   "source": [
    "import numpy as np\n",
    "\n",
    "# Creating the data.txt file with sample space-separated numbers\n",
    "data = \"\"\"12 34 56 78\n",
    "90 23 45 67\n",
    "89 12 34 56\"\"\"\n",
    "\n",
    "file = open(\"data.txt\", \"w\")\n",
    "file.write(data)\n",
    "file.close()\n",
    "\n",
    "print(\"data.txt file created successfully.\")\n",
    "\n",
    "# Reading the file and processing the data\n",
    "file = open(\"data.txt\", \"r\")\n",
    "lines = file.readlines()\n",
    "file.close()\n",
    "\n",
    "data_list = []\n",
    "\n",
    "for line in lines:\n",
    "    data_list.extend(map(int, line.strip().split()))\n",
    "\n",
    "arr = np.array(data_list)\n",
    "\n",
    "mean_value = np.mean(arr)\n",
    "max_value = np.max(arr)\n",
    "\n",
    "print(f\"Mean of all numbers: {mean_value}\")\n",
    "print(f\"Maximum value: {max_value}\")"
   ]
  },
  {
   "cell_type": "markdown",
   "id": "fb8dba00-dfb8-45cd-af70-79c7e34acaad",
   "metadata": {},
   "source": [
    "Create a 3x3 NumPy array with random integers between 1 and 100. Perform the following\n",
    "operations:\n",
    "Find the minimum value of the array.\n",
    "Compute the sum of each row and each column."
   ]
  },
  {
   "cell_type": "code",
   "execution_count": 29,
   "id": "f8270c4e-595b-4697-8b54-2f00ed27d526",
   "metadata": {},
   "outputs": [
    {
     "name": "stdout",
     "output_type": "stream",
     "text": [
      "Array:\n",
      "[[44 59 32]\n",
      " [72 45 78]\n",
      " [94 11 70]]\n",
      "Minimum value: 11\n",
      "Sum of each row: [135 195 175]\n",
      "Sum of each column: [210 115 180]\n"
     ]
    }
   ],
   "source": [
    "import numpy as np\n",
    "\n",
    "arr = np.random.randint(1, 101, size=(3, 3))\n",
    "\n",
    "min = np.min(arr)\n",
    "\n",
    "row = np.sum(arr, axis=1)\n",
    "col = np.sum(arr, axis=0)\n",
    "\n",
    "print(\"Array:\")\n",
    "print(arr)\n",
    "print(f\"Minimum value: {min}\")\n",
    "print(f\"Sum of each row: {row}\")\n",
    "print(f\"Sum of each column: {col}\")\n"
   ]
  },
  {
   "cell_type": "markdown",
   "id": "e160edf6-8681-4139-b897-4ed5084111de",
   "metadata": {},
   "source": [
    "Create a NumPy array containing the following temperatures (in Celsius): [25, 30, 35, 28, 32].\n",
    "Convert this array to Fahrenheit using the formula.\n",
    "Display both Celsius and Fahrenheit arrays."
   ]
  },
  {
   "cell_type": "code",
   "execution_count": 2,
   "id": "1b01d275-8b9c-42d8-882f-b73f5305a315",
   "metadata": {},
   "outputs": [
    {
     "name": "stdout",
     "output_type": "stream",
     "text": [
      "Celsius: [25 30 35 28 32]\n",
      "Fahrenheit: [77.  86.  95.  82.4 89.6]\n"
     ]
    }
   ],
   "source": [
    "import numpy as np\n",
    "\n",
    "celsius_temps = np.array([25, 30, 35, 28, 32])\n",
    "fahrenheit_temps = (celsius_temps * 9/5) + 32\n",
    "\n",
    "print(\"Celsius:\", celsius_temps)\n",
    "print(\"Fahrenheit:\", fahrenheit_temps)\n"
   ]
  },
  {
   "cell_type": "markdown",
   "id": "a8b5760e-3ffc-4029-81ed-d803c29d175a",
   "metadata": {},
   "source": [
    "Create a NumPy array of shape (4, 4) with random integers between 10 and 50. Replace all even\n",
    "numbers in the array with -1. Display the modified array."
   ]
  },
  {
   "cell_type": "code",
   "execution_count": 5,
   "id": "93c76cd2-bb99-40be-ba60-4f0445958a5f",
   "metadata": {},
   "outputs": [
    {
     "name": "stdout",
     "output_type": "stream",
     "text": [
      "Modified Array:\n",
      "[[-1 35 -1 -1]\n",
      " [-1 37 -1 -1]\n",
      " [-1 27 45 19]\n",
      " [17 -1 -1 -1]]\n"
     ]
    }
   ],
   "source": [
    "import numpy as np\n",
    "\n",
    "array = np.random.randint(10, 50, (4, 4))\n",
    "array[array % 2 == 0] = -1\n",
    "\n",
    "print(\"Modified Array:\")\n",
    "print(array)\n"
   ]
  },
  {
   "cell_type": "markdown",
   "id": "88f7a445-87c0-4d61-b59b-86dcf8ac80a3",
   "metadata": {},
   "source": [
    "Create a 1D NumPy array containing 10 equally spaced numbers between 0 and 1. Reshape it into\n",
    "a 2x5 matrix and calculate:\n",
    "• The mean of each row.\n",
    "• The standard deviation of the entire matrix."
   ]
  },
  {
   "cell_type": "code",
   "execution_count": 14,
   "id": "385ffd63-c67e-4514-936a-8d7cceefb99e",
   "metadata": {},
   "outputs": [
    {
     "name": "stdout",
     "output_type": "stream",
     "text": [
      "Matrix:\n",
      " [[0.         0.11111111 0.22222222 0.33333333 0.44444444]\n",
      " [0.55555556 0.66666667 0.77777778 0.88888889 1.        ]]\n",
      "Row Means: [0.22222222 0.77777778]\n",
      "Standard Deviation of Matrix: 0.31914236925211265\n"
     ]
    }
   ],
   "source": [
    "import numpy as np\n",
    "\n",
    "array = np.linspace(0, 1, 10)  \n",
    "matrix = array.reshape(2, 5)  \n",
    "row_means = np.mean(matrix, axis=1) \n",
    "matrix_std = np.std(matrix)         \n",
    "\n",
    "print(\"Matrix:\\n\", matrix)\n",
    "print(\"Row Means:\", row_means)\n",
    "print(\"Standard Deviation of Matrix:\", matrix_std)"
   ]
  },
  {
   "cell_type": "markdown",
   "id": "64cf9445-7841-439d-b9fc-e413d83bd0a2",
   "metadata": {},
   "source": [
    "Given a 2D NumPy array of shape (5, 3) containing random integers, write code to:\n",
    "• Identify and display the maximum value in each column.\n",
    "• Calculate the sum of all elements in the array."
   ]
  },
  {
   "cell_type": "code",
   "execution_count": 16,
   "id": "72a0bf83-cd3a-44b3-adbc-851220a63aa9",
   "metadata": {},
   "outputs": [
    {
     "name": "stdout",
     "output_type": "stream",
     "text": [
      "Array:\n",
      " [[ 5 51 54]\n",
      " [38 44 38]\n",
      " [26  7  8]\n",
      " [65 94 15]\n",
      " [10 89 80]]\n",
      "Maximum Values in Each Column: [65 94 80]\n",
      "Sum of All Elements: 624\n"
     ]
    }
   ],
   "source": [
    "array = np.random.randint(1, 100, (5, 3)) \n",
    "column_max = np.max(array, axis=0)         \n",
    "total_sum = np.sum(array)                  \n",
    "\n",
    "print(\"Array:\\n\", array)\n",
    "print(\"Maximum Values in Each Column:\", column_max)\n",
    "print(\"Sum of All Elements:\", total_sum)"
   ]
  },
  {
   "cell_type": "markdown",
   "id": "cf41c87c-79ef-4539-861d-d08de9fe703f",
   "metadata": {},
   "source": [
    "Write a Python program to create a file named sales_data.txt. Read the file and load the Sales column into a NumPy array.\n",
    "• Calculate and display the following using the NumPy array"
   ]
  },
  {
   "cell_type": "code",
   "execution_count": 18,
   "id": "d1a4b198-1fdd-461f-babe-461c2c67e424",
   "metadata": {},
   "outputs": [
    {
     "name": "stdout",
     "output_type": "stream",
     "text": [
      "Total Sales: 900\n",
      "Average Sales: 225.0\n",
      "Region with Maximum Sales: East\n"
     ]
    }
   ],
   "source": [
    "import numpy as np\n",
    "\n",
    "with open(\"sales_data.txt\", \"w\") as file:\n",
    "    file.write(\"Region,Product,Sales\\n\")\n",
    "    file.write(\"North,ProductA,200\\n\")\n",
    "    file.write(\"South,ProductB,150\\n\")\n",
    "    file.write(\"East,ProductA,300\\n\")\n",
    "    file.write(\"West,ProductC,250\\n\")\n",
    "\n",
    "data = np.genfromtxt(\"sales_data.txt\", delimiter=\",\", skip_header=1, dtype=None, encoding=\"utf-8\")\n",
    "sales = np.array([int(row[2]) for row in data])\n",
    "\n",
    "total_sales = np.sum(sales)\n",
    "average_sales = np.mean(sales)\n",
    "region_max_sales = data[np.argmax(sales)][0]\n",
    "\n",
    "print(\"Total Sales:\", total_sales)\n",
    "print(\"Average Sales:\", average_sales)\n",
    "print(\"Region with Maximum Sales:\", region_max_sales)"
   ]
  },
  {
   "cell_type": "markdown",
   "id": "dba111f8-c717-4f21-80d6-78a50f9d8df2",
   "metadata": {},
   "source": [
    "Create a file named matrix_data.txt. Write a Python program to read this file and convert its content into a 2D NumPy array.\n",
    "Perform the following operations on the array:\n",
    "• Find the determinant of the matrix.\n",
    "• Calculate the transpose of the matrix.\n",
    "• Save the transpose into a new file named matrix_transpose.txt"
   ]
  },
  {
   "cell_type": "code",
   "execution_count": 21,
   "id": "ad764af2-09fa-4b41-925d-a5964f9ea895",
   "metadata": {},
   "outputs": [
    {
     "name": "stdout",
     "output_type": "stream",
     "text": [
      "Original Matrix:\n",
      " [[1. 2. 3.]\n",
      " [4. 5. 6.]\n",
      " [7. 8. 9.]]\n",
      "Determinant of the Matrix: -9.51619735392994e-16\n",
      "Transpose of the Matrix:\n",
      " [[1. 4. 7.]\n",
      " [2. 5. 8.]\n",
      " [3. 6. 9.]]\n"
     ]
    }
   ],
   "source": [
    "import numpy as np\n",
    "\n",
    "with open(\"matrix_data.txt\", \"w\") as file:\n",
    "    file.write(\"1 2 3\\n\")\n",
    "    file.write(\"4 5 6\\n\")\n",
    "    file.write(\"7 8 9\\n\")\n",
    "\n",
    "matrix = np.loadtxt(\"matrix_data.txt\")\n",
    "determinant = np.linalg.det(matrix)\n",
    "transpose = matrix.T\n",
    "np.savetxt(\"matrix_transpose.txt\", transpose, fmt=\"%d\")\n",
    "\n",
    "print(\"Original Matrix:\\n\", matrix)\n",
    "print(\"Determinant of the Matrix:\", determinant)\n",
    "print(\"Transpose of the Matrix:\\n\", transpose)"
   ]
  }
 ],
 "metadata": {
  "kernelspec": {
   "display_name": "Python 3 (ipykernel)",
   "language": "python",
   "name": "python3"
  },
  "language_info": {
   "codemirror_mode": {
    "name": "ipython",
    "version": 3
   },
   "file_extension": ".py",
   "mimetype": "text/x-python",
   "name": "python",
   "nbconvert_exporter": "python",
   "pygments_lexer": "ipython3",
   "version": "3.12.7"
  }
 },
 "nbformat": 4,
 "nbformat_minor": 5
}
