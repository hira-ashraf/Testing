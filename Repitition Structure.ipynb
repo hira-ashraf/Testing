{
 "cells": [
  {
   "cell_type": "markdown",
   "id": "20ee3062-a68d-468a-adee-362a23c0508c",
   "metadata": {},
   "source": [
    "## Assignment (Repetition Structure)"
   ]
  },
  {
   "cell_type": "markdown",
   "id": "d449aaf0-c2f3-4edf-a189-59d7375fb82c",
   "metadata": {},
   "source": [
    "Write a Python program using a while loop to print all numbers from 1 to a user-provided number N."
   ]
  },
  {
   "cell_type": "code",
   "execution_count": 7,
   "id": "1580bc3c-3153-4e4f-b8e4-a5f5bc1e8731",
   "metadata": {},
   "outputs": [
    {
     "name": "stdin",
     "output_type": "stream",
     "text": [
      "Enter a number:  4\n"
     ]
    },
    {
     "name": "stdout",
     "output_type": "stream",
     "text": [
      "1\n",
      "2\n",
      "3\n",
      "4\n"
     ]
    }
   ],
   "source": [
    "N = int(input(\"Enter a number: \"))\n",
    "\n",
    "i = 1\n",
    "\n",
    "while i <= N:\n",
    "    print(i)\n",
    "    i += 1"
   ]
  },
  {
   "cell_type": "markdown",
   "id": "e20a93f9-a4c5-40c1-b3e0-6eddf268d4fd",
   "metadata": {},
   "source": [
    "Write a Python program using a for loop to calculate the sum of the first N natural numbers."
   ]
  },
  {
   "cell_type": "code",
   "execution_count": 7,
   "id": "87f84fd5-9a5f-4f73-ae49-92ea16d8e823",
   "metadata": {},
   "outputs": [
    {
     "name": "stdin",
     "output_type": "stream",
     "text": [
      "Enter a number:  6\n"
     ]
    },
    {
     "name": "stdout",
     "output_type": "stream",
     "text": [
      "The sum of the first 6 natural numbers is: 21\n"
     ]
    }
   ],
   "source": [
    "N = int(input(\"Enter a number: \"))\n",
    "\n",
    "total = 0\n",
    "\n",
    "for i in range(1, N + 1):\n",
    "    total += i\n",
    "\n",
    "print(\"The sum of the first\", N, \"natural numbers is:\", total)"
   ]
  },
  {
   "cell_type": "markdown",
   "id": "a508a720-fbf1-4c92-8613-937883527a04",
   "metadata": {},
   "source": [
    "Write a Python program using a for loop to count how many even numbers exist between two user-provided\n",
    "integers (inclusive)"
   ]
  },
  {
   "cell_type": "code",
   "execution_count": 16,
   "id": "8d673017-5e87-4503-b5a3-c4c4cb1ef5b7",
   "metadata": {},
   "outputs": [
    {
     "name": "stdin",
     "output_type": "stream",
     "text": [
      "Enter the starting number:  2\n",
      "Enter the ending number:  9\n"
     ]
    },
    {
     "name": "stdout",
     "output_type": "stream",
     "text": [
      "The number of even numbers between 2 and 9 is: 4\n"
     ]
    }
   ],
   "source": [
    "start = int(input(\"Enter the starting number: \"))\n",
    "end = int(input(\"Enter the ending number: \"))\n",
    "\n",
    "count = 0\n",
    "\n",
    "for i in range(start, end + 1):\n",
    "    if i % 2 == 0:\n",
    "        count += 1\n",
    "\n",
    "print(\"The number of even numbers between\", start, \"and\", end, \"is:\", count)"
   ]
  },
  {
   "cell_type": "markdown",
   "id": "be9edb48-5069-4104-884b-ae01df0c6cad",
   "metadata": {},
   "source": [
    "Write a program that calculates the factorial of a given number using a while loop."
   ]
  },
  {
   "cell_type": "code",
   "execution_count": 18,
   "id": "b975dd4c-3d77-4ac9-a391-49d62e4df769",
   "metadata": {},
   "outputs": [
    {
     "name": "stdin",
     "output_type": "stream",
     "text": [
      "Enter a number:  5\n"
     ]
    },
    {
     "name": "stdout",
     "output_type": "stream",
     "text": [
      "The factorial of 5 is: 120\n"
     ]
    }
   ],
   "source": [
    "num = int(input(\"Enter a number: \"))\n",
    "\n",
    "factorial = 1\n",
    "i = 1\n",
    "\n",
    "while i <= num:\n",
    "    factorial *= i\n",
    "    i += 1\n",
    "\n",
    "print(\"The factorial of\", num, \"is:\", factorial)\n"
   ]
  },
  {
   "cell_type": "markdown",
   "id": "2ae3b339-b26d-4208-8ee4-578de447f341",
   "metadata": {},
   "source": [
    "Write a Python program that takes a number as input and checks if it is a prime number using a for-else loop."
   ]
  },
  {
   "cell_type": "code",
   "execution_count": 25,
   "id": "49ae3358-4755-4d53-91d6-02e839a899af",
   "metadata": {},
   "outputs": [
    {
     "name": "stdin",
     "output_type": "stream",
     "text": [
      "Enter a number:  76\n"
     ]
    },
    {
     "name": "stdout",
     "output_type": "stream",
     "text": [
      "76 is not a prime number.\n",
      "It is divisible by 2\n"
     ]
    }
   ],
   "source": [
    "num = int(input(\"Enter a number: \"))\n",
    "\n",
    "if num > 1:\n",
    "    \n",
    "    for i in range(2, int(num ** 0.5) + 1):\n",
    "        if num % i == 0:\n",
    "            print(num, \"is not a prime number.\")\n",
    "            print(\"It is divisible by\", i)\n",
    "            break\n",
    "    else:\n",
    "        print(num, \"is a prime number.\")\n",
    "else:\n",
    "    print(num, \"is not a prime number.\")\n"
   ]
  },
  {
   "cell_type": "markdown",
   "id": "805a8ff0-5213-46c5-929e-327bf7ece8a2",
   "metadata": {},
   "source": [
    "Write a Python program using a while loop to print the Fibonacci series up to a user-specified limit.\n",
    "(Example: If input is 10, output should be 0, 1, 1, 2, 3, 5, 8.)"
   ]
  },
  {
   "cell_type": "code",
   "execution_count": 39,
   "id": "92ae77e8-26f7-4f64-be47-5f1d50d0d9fe",
   "metadata": {},
   "outputs": [
    {
     "name": "stdin",
     "output_type": "stream",
     "text": [
      "Enter the limit:  7\n"
     ]
    },
    {
     "name": "stdout",
     "output_type": "stream",
     "text": [
      "Fibonacci series up to 7 :\n",
      "0, 1, 1, 2, 3, 5, "
     ]
    }
   ],
   "source": [
    "limit = int(input(\"Enter the limit: \"))\n",
    "\n",
    "a = 0\n",
    "b = 1\n",
    "\n",
    "print(\"Fibonacci series up to\", limit, \":\")\n",
    "\n",
    "if a <= limit:\n",
    "    print(a, end=\", \")\n",
    "    \n",
    "if b <= limit:\n",
    "    print(b, end=\", \")\n",
    "\n",
    "while True:\n",
    "    next_num = a + b\n",
    "    if next_num > limit:\n",
    "        break\n",
    "    print(next_num, end=\", \")\n",
    "    a = b\n",
    "    b = next_num\n",
    "\n"
   ]
  },
  {
   "cell_type": "markdown",
   "id": "0fc5de75-c9c9-498f-992c-62cafd59c198",
   "metadata": {},
   "source": [
    "Write a Python program where the computer selects a random number between 1 and 100. The user has to guess the number. Use a while loop to provide feedback (\"Too high\", \"Too low\") and continue until the user\n",
    "guesses correctly."
   ]
  },
  {
   "cell_type": "code",
   "execution_count": 45,
   "id": "7036b9ef-d184-4d23-be38-7406fc8bbf21",
   "metadata": {},
   "outputs": [
    {
     "name": "stdin",
     "output_type": "stream",
     "text": [
      "Enter your guess:  86\n"
     ]
    },
    {
     "name": "stdout",
     "output_type": "stream",
     "text": [
      "Too low! Try again.\n"
     ]
    },
    {
     "name": "stdin",
     "output_type": "stream",
     "text": [
      "Enter your guess:  90\n"
     ]
    },
    {
     "name": "stdout",
     "output_type": "stream",
     "text": [
      "Too low! Try again.\n"
     ]
    },
    {
     "name": "stdin",
     "output_type": "stream",
     "text": [
      "Enter your guess:  100\n"
     ]
    },
    {
     "name": "stdout",
     "output_type": "stream",
     "text": [
      "Too high! Try again.\n"
     ]
    },
    {
     "name": "stdin",
     "output_type": "stream",
     "text": [
      "Enter your guess:  95\n"
     ]
    },
    {
     "name": "stdout",
     "output_type": "stream",
     "text": [
      "Too low! Try again.\n"
     ]
    },
    {
     "name": "stdin",
     "output_type": "stream",
     "text": [
      "Enter your guess:  98\n"
     ]
    },
    {
     "name": "stdout",
     "output_type": "stream",
     "text": [
      "Too low! Try again.\n"
     ]
    },
    {
     "name": "stdin",
     "output_type": "stream",
     "text": [
      "Enter your guess:  97\n"
     ]
    },
    {
     "name": "stdout",
     "output_type": "stream",
     "text": [
      "Too low! Try again.\n"
     ]
    },
    {
     "name": "stdin",
     "output_type": "stream",
     "text": [
      "Enter your guess:  99\n"
     ]
    },
    {
     "name": "stdout",
     "output_type": "stream",
     "text": [
      "Congratulations! You've guessed the number 99 correctly!\n"
     ]
    }
   ],
   "source": [
    "import random\n",
    "guess_num= random.randint(1, 100)\n",
    "\n",
    "user_guess = None\n",
    "\n",
    "while user_guess != guess_num:\n",
    "    user_guess = int(input(\"Enter your guess: \"))\n",
    "\n",
    "    if user_guess < guess_num:\n",
    "        print(\"Too low! Try again.\")\n",
    "    elif user_guess > guess_num:\n",
    "        print(\"Too high! Try again.\")\n",
    "    else:\n",
    "        print(f\"Congratulations! You've guessed the number {guess_num} correctly!\")\n"
   ]
  },
  {
   "cell_type": "markdown",
   "id": "aa562975-3e33-4211-bd1a-ee68b8d63102",
   "metadata": {},
   "source": [
    "Write a Python program that takes an integer as input and finds its smallest divisor greater than 1 using a for\n",
    "loop. Use a for-else loop to print \"Prime\" if no divisor is found."
   ]
  },
  {
   "cell_type": "code",
   "execution_count": 47,
   "id": "3815e772-0d87-4e0d-af57-1201f67e351b",
   "metadata": {},
   "outputs": [
    {
     "name": "stdin",
     "output_type": "stream",
     "text": [
      "Enter an integer:  6\n"
     ]
    },
    {
     "name": "stdout",
     "output_type": "stream",
     "text": [
      "The smallest divisor of 6 greater than 1 is: 2\n"
     ]
    }
   ],
   "source": [
    "num = int(input(\"Enter an integer: \"))\n",
    "\n",
    "if num > 1:\n",
    "    for i in range(2, num + 1):\n",
    "        if num % i == 0:\n",
    "            print(\"The smallest divisor of\", num, \"greater than 1 is:\", i)\n",
    "            break\n",
    "    else:\n",
    "        print(num, \"is Prime.\")\n",
    "else:\n",
    "    print(\"Please enter an integer greater than 1.\")\n"
   ]
  },
  {
   "cell_type": "markdown",
   "id": "f4697c87-6349-4e8e-8be4-7dc1e0460def",
   "metadata": {},
   "source": [
    "Write a program using nested for loops to print the multiplication table for numbers from 1 to N.\n",
    "(Example: If N = 3, output should show tables for 1, 2, and 3.)"
   ]
  },
  {
   "cell_type": "code",
   "execution_count": 52,
   "id": "2ab9f604-be83-4cbd-8c2d-838a4de197ad",
   "metadata": {},
   "outputs": [
    {
     "name": "stdin",
     "output_type": "stream",
     "text": [
      "Enter the value of N:  3\n"
     ]
    },
    {
     "name": "stdout",
     "output_type": "stream",
     "text": [
      "Multiplication tables from 1 to 3:\n",
      "\n",
      "Table for 1:\n",
      "1 x 1 = 1\n",
      "1 x 2 = 2\n",
      "1 x 3 = 3\n",
      "1 x 4 = 4\n",
      "1 x 5 = 5\n",
      "1 x 6 = 6\n",
      "1 x 7 = 7\n",
      "1 x 8 = 8\n",
      "1 x 9 = 9\n",
      "1 x 10 = 10\n",
      "\n",
      "Table for 2:\n",
      "2 x 1 = 2\n",
      "2 x 2 = 4\n",
      "2 x 3 = 6\n",
      "2 x 4 = 8\n",
      "2 x 5 = 10\n",
      "2 x 6 = 12\n",
      "2 x 7 = 14\n",
      "2 x 8 = 16\n",
      "2 x 9 = 18\n",
      "2 x 10 = 20\n",
      "\n",
      "Table for 3:\n",
      "3 x 1 = 3\n",
      "3 x 2 = 6\n",
      "3 x 3 = 9\n",
      "3 x 4 = 12\n",
      "3 x 5 = 15\n",
      "3 x 6 = 18\n",
      "3 x 7 = 21\n",
      "3 x 8 = 24\n",
      "3 x 9 = 27\n",
      "3 x 10 = 30\n",
      "\n"
     ]
    }
   ],
   "source": [
    "N = int(input(\"Enter the value of N: \"))\n",
    "\n",
    "print(f\"Multiplication tables from 1 to {N}:\\n\")\n",
    "\n",
    "for i in range(1, N + 1):\n",
    "    print(f\"Table for {i}:\")\n",
    "    for j in range(1, 11):\n",
    "        print(f\"{i} x {j} = {i * j}\")\n",
    "    print() \n"
   ]
  },
  {
   "cell_type": "markdown",
   "id": "3d52bad7-737c-436d-b553-e8c8dc1b2edf",
   "metadata": {},
   "source": [
    "Write a Python program using nested loops to print a number pyramid up to a user-specified number of levels.\n",
    "(Example for 4 levels:)"
   ]
  },
  {
   "cell_type": "code",
   "execution_count": 55,
   "id": "d37b25d4-87b2-4f1d-806f-f2d645795eb3",
   "metadata": {},
   "outputs": [
    {
     "name": "stdin",
     "output_type": "stream",
     "text": [
      "Enter the number of levels for the pyramid:  7\n"
     ]
    },
    {
     "name": "stdout",
     "output_type": "stream",
     "text": [
      "1 \n",
      "1 2 \n",
      "1 2 3 \n",
      "1 2 3 4 \n",
      "1 2 3 4 5 \n",
      "1 2 3 4 5 6 \n",
      "1 2 3 4 5 6 7 \n"
     ]
    }
   ],
   "source": [
    "levels = int(input(\"Enter the number of levels for the pyramid: \"))\n",
    "\n",
    "for i in range(1, levels + 1):\n",
    "    for j in range(1, i + 1):\n",
    "        print(j, end=\" \")  #\n",
    "    print()  \n"
   ]
  },
  {
   "cell_type": "code",
   "execution_count": null,
   "id": "4ed4242e-2ce3-4611-9d54-0e960044e52b",
   "metadata": {},
   "outputs": [],
   "source": []
  }
 ],
 "metadata": {
  "kernelspec": {
   "display_name": "Python 3 (ipykernel)",
   "language": "python",
   "name": "python3"
  },
  "language_info": {
   "codemirror_mode": {
    "name": "ipython",
    "version": 3
   },
   "file_extension": ".py",
   "mimetype": "text/x-python",
   "name": "python",
   "nbconvert_exporter": "python",
   "pygments_lexer": "ipython3",
   "version": "3.12.7"
  }
 },
 "nbformat": 4,
 "nbformat_minor": 5
}
