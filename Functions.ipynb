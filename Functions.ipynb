{
 "cells": [
  {
   "cell_type": "markdown",
   "id": "20ee3062-a68d-468a-adee-362a23c0508c",
   "metadata": {},
   "source": [
    "## Assignment (Functions)"
   ]
  },
  {
   "cell_type": "markdown",
   "id": "857a4d85-fa0f-4c47-a473-4d60301a8e7e",
   "metadata": {},
   "source": [
    "Write a function add_numbers(a, b) that takes two numbers as arguments and returns their sum."
   ]
  },
  {
   "cell_type": "code",
   "execution_count": 3,
   "id": "1580bc3c-3153-4e4f-b8e4-a5f5bc1e8731",
   "metadata": {},
   "outputs": [],
   "source": [
    "def add_numbers(a, b):\n",
    "    return a + b"
   ]
  },
  {
   "cell_type": "code",
   "execution_count": 5,
   "id": "e09432e3-afea-4b17-9015-ac38f7f82a6c",
   "metadata": {},
   "outputs": [
    {
     "name": "stdout",
     "output_type": "stream",
     "text": [
      "8\n"
     ]
    }
   ],
   "source": [
    "result = add_numbers(3, 5)\n",
    "print(result) "
   ]
  },
  {
   "cell_type": "markdown",
   "id": "6736b526-41ae-4eaa-b000-ca59a88f021c",
   "metadata": {},
   "source": [
    "Define a function square(x) that takes a number and returns its square."
   ]
  },
  {
   "cell_type": "code",
   "execution_count": 3,
   "id": "87f84fd5-9a5f-4f73-ae49-92ea16d8e823",
   "metadata": {},
   "outputs": [],
   "source": [
    "def square(x):\n",
    "    return x * x"
   ]
  },
  {
   "cell_type": "code",
   "execution_count": 5,
   "id": "5babb4b9-7674-4894-8de0-cb6991781390",
   "metadata": {},
   "outputs": [
    {
     "name": "stdout",
     "output_type": "stream",
     "text": [
      "16\n"
     ]
    }
   ],
   "source": [
    "print(square(4)) \n"
   ]
  },
  {
   "cell_type": "markdown",
   "id": "3ee6d096-1fa8-4aeb-8d02-d7ff61407192",
   "metadata": {},
   "source": [
    "Write a function muultiply(a, b, c) that takes three numbers and returns their product."
   ]
  },
  {
   "cell_type": "code",
   "execution_count": 8,
   "id": "bc938c00-d866-4201-a15e-3f125cd7ed66",
   "metadata": {},
   "outputs": [],
   "source": [
    "def multiply(a, b, c):\n",
    "    return a * b * c"
   ]
  },
  {
   "cell_type": "code",
   "execution_count": 10,
   "id": "27e7c9c8-45bd-446f-9f64-b4acef08f305",
   "metadata": {},
   "outputs": [
    {
     "name": "stdout",
     "output_type": "stream",
     "text": [
      "24\n"
     ]
    }
   ],
   "source": [
    "print(multiply(2, 3, 4)) "
   ]
  },
  {
   "cell_type": "markdown",
   "id": "9bea6a13-44d7-49d6-b1ce-b8da11592ba0",
   "metadata": {},
   "source": [
    "Write a function greet_user(name=\"Guest\") that prints \"Hello, [name]!\""
   ]
  },
  {
   "cell_type": "code",
   "execution_count": 13,
   "id": "44b6f5dc-e529-4367-a90f-4fa6b264f86f",
   "metadata": {},
   "outputs": [
    {
     "name": "stdout",
     "output_type": "stream",
     "text": [
      "Hello, Alice!\n",
      "Hello, Guest!\n"
     ]
    }
   ],
   "source": [
    "def greet_user(name=\"Guest\"):\n",
    "    print(f\"Hello, {name}!\")\n",
    "\n",
    "greet_user(\"Alice\")\n",
    "greet_user()"
   ]
  },
  {
   "cell_type": "markdown",
   "id": "9ce581e5-0f2f-4890-bd2c-c2307aefa78c",
   "metadata": {},
   "source": [
    "Create a Python program that acts as a calculator. The program should allow the user to perform\n",
    "basic arithmetic operations"
   ]
  },
  {
   "cell_type": "code",
   "execution_count": 27,
   "id": "0d7d97b9-c11e-4d05-9bf6-d236910ecfd8",
   "metadata": {},
   "outputs": [
    {
     "name": "stdout",
     "output_type": "stream",
     "text": [
      "Welcome to the calculator\n",
      "\n",
      "Please select an operation:\n",
      "1. Addition (+)\n",
      "2. Subtraction (-)\n",
      "3. Multiplication (*)\n",
      "4. Division (/)\n",
      "5. Power (^)\n",
      "6. Exit\n"
     ]
    },
    {
     "name": "stdin",
     "output_type": "stream",
     "text": [
      "Enter your choice:  1\n",
      "Enter the first number:  5\n",
      "Enter the second number:  3\n"
     ]
    },
    {
     "name": "stdout",
     "output_type": "stream",
     "text": [
      "Result: 8.0\n",
      "\n",
      "Please select an operation:\n",
      "1. Addition (+)\n",
      "2. Subtraction (-)\n",
      "3. Multiplication (*)\n",
      "4. Division (/)\n",
      "5. Power (^)\n",
      "6. Exit\n"
     ]
    },
    {
     "name": "stdin",
     "output_type": "stream",
     "text": [
      "Enter your choice:  6\n"
     ]
    },
    {
     "name": "stdout",
     "output_type": "stream",
     "text": [
      "Exiting the calculator. Goodbye!\n"
     ]
    }
   ],
   "source": [
    "def add(a, b):\n",
    "    return a + b\n",
    "\n",
    "def subtract(a, b):\n",
    "    return a - b\n",
    "\n",
    "def multiply(a, b):\n",
    "    return a * b\n",
    "\n",
    "def divide(a, b):\n",
    "    if b == 0:\n",
    "        return \"Error: Division by zero is not allowed.\"\n",
    "    return a / b\n",
    "\n",
    "def power(a, b):\n",
    "    return a ** b\n",
    "\n",
    "print(\"Welcome to the calculator\")\n",
    "\n",
    "while True:\n",
    "    print(\"\\nPlease select an operation:\")\n",
    "    print(\"1. Addition (+)\")\n",
    "    print(\"2. Subtraction (-)\")\n",
    "    print(\"3. Multiplication (*)\")\n",
    "    print(\"4. Division (/)\")\n",
    "    print(\"5. Power (^)\")\n",
    "    print(\"6. Exit\")\n",
    "    \n",
    "    choice = input(\"Enter your choice: \")\n",
    "    \n",
    "    if choice == '6':\n",
    "        print(\"Exiting the calculator. Goodbye!\")\n",
    "        break\n",
    "    \n",
    "    if choice in ['1', '2', '3', '4', '5']:\n",
    "        try:\n",
    "            num1 = float(input(\"Enter the first number: \"))\n",
    "            num2 = float(input(\"Enter the second number: \"))\n",
    "            \n",
    "            if choice == '1':\n",
    "                print(f\"Result: {add(num1, num2)}\")\n",
    "            elif choice == '2':\n",
    "                print(f\"Result: {subtract(num1, num2)}\")\n",
    "            elif choice == '3':\n",
    "                print(f\"Result: {multiply(num1, num2)}\")\n",
    "            elif choice == '4':\n",
    "                print(f\"Result: {divide(num1, num2)}\")\n",
    "            elif choice == '5':\n",
    "                print(f\"Result: {power(num1, num2)}\")\n",
    "        except ValueError:\n",
    "            print(\"Error: Please enter valid numeric values.\")\n",
    "    else:\n",
    "        print(\"Invalid choice. Please select a valid operation.\")\n"
   ]
  },
  {
   "cell_type": "markdown",
   "id": "2b812cbe-331a-4d1d-a817-ec1eb00959f4",
   "metadata": {},
   "source": [
    "Create a Python program that calculates the grade for a subject based on the marks provided by the\n",
    "user."
   ]
  },
  {
   "cell_type": "code",
   "execution_count": 3,
   "id": "0c1764e1-973f-4359-99f3-9875505a4045",
   "metadata": {},
   "outputs": [
    {
     "name": "stdin",
     "output_type": "stream",
     "text": [
      "Enter marks for subject 1:  78\n"
     ]
    },
    {
     "name": "stdout",
     "output_type": "stream",
     "text": [
      "Grade B\n"
     ]
    },
    {
     "name": "stdin",
     "output_type": "stream",
     "text": [
      "Enter marks for subject 2:  82\n"
     ]
    },
    {
     "name": "stdout",
     "output_type": "stream",
     "text": [
      "Grade A-\n"
     ]
    },
    {
     "name": "stdin",
     "output_type": "stream",
     "text": [
      "Enter marks for subject 3:  49\n"
     ]
    },
    {
     "name": "stdout",
     "output_type": "stream",
     "text": [
      "Grade Fail\n"
     ]
    }
   ],
   "source": [
    "def calculate_grade(marks):\n",
    "    if marks > 85:\n",
    "        return \"A\"\n",
    "    elif marks > 80:\n",
    "        return \"A-\"\n",
    "    elif marks > 70:\n",
    "        return \"B\"\n",
    "    elif marks > 60:\n",
    "        return \"C\"\n",
    "    elif marks > 50:\n",
    "        return \"D\"\n",
    "    else:\n",
    "        return \"Fail\"\n",
    "        \n",
    "for i in range(1, 4): \n",
    "    try:\n",
    "        marks = float(input(f\"Enter marks for subject {i}: \"))\n",
    "        \n",
    "        if 0 <= marks <= 100:\n",
    "            grade = calculate_grade(marks)\n",
    "            print(f\"Grade {grade}\")\n",
    "        else:\n",
    "            print(\"Error: Marks should be between 0 and 100.\")\n",
    "    except ValueError:\n",
    "        print(\"Error: Please enter a valid number for marks.\")"
   ]
  },
  {
   "cell_type": "markdown",
   "id": "c0ebccd5-6055-4d21-aa43-d131c2ce896a",
   "metadata": {},
   "source": [
    "Write a Python program that calculates the results of a student based on their marks in three\n",
    "subjects."
   ]
  },
  {
   "cell_type": "code",
   "execution_count": 5,
   "id": "e17892b4-caf9-4991-9ebf-34bcd3f2ab9d",
   "metadata": {},
   "outputs": [
    {
     "name": "stdin",
     "output_type": "stream",
     "text": [
      "Enter marks for subject 1 (0-50):  48\n",
      "Enter marks for subject 2 (0-50):  51\n"
     ]
    },
    {
     "name": "stdout",
     "output_type": "stream",
     "text": [
      "Error: Marks must be between 0 and 50. Please enter again.\n"
     ]
    },
    {
     "name": "stdin",
     "output_type": "stream",
     "text": [
      "Enter marks for subject 2 (0-50):  42\n",
      "Enter marks for subject 3 (0-50):  39\n"
     ]
    },
    {
     "name": "stdout",
     "output_type": "stream",
     "text": [
      "Subject 1: Marks = 48.0, Grade = D\n",
      "Subject 2: Marks = 42.0, Grade = D\n",
      "Subject 3: Marks = 39.0, Grade = Fail\n",
      "Total Marks (out of 150): 129.0\n",
      "Average Marks: 43.00\n"
     ]
    }
   ],
   "source": [
    "def calculate_grade(marks):\n",
    "    if marks > 85:\n",
    "        return \"A+\"\n",
    "    elif 80 < marks <= 85:\n",
    "        return \"A\"\n",
    "    elif 70 < marks <= 80:\n",
    "        return \"A-\"\n",
    "    elif 60 < marks <= 70:\n",
    "        return \"B\"\n",
    "    elif 50 < marks <= 60:\n",
    "        return \"C\"\n",
    "    elif 40 < marks <= 50:\n",
    "        return \"D\"\n",
    "    else:\n",
    "        return \"Fail\"\n",
    "\n",
    "def get_valid_marks(subject_num):\n",
    "    while True:\n",
    "        try:\n",
    "            marks = float(input(f\"Enter marks for subject {subject_num} (0-50): \"))\n",
    "            if 0 <= marks <= 50:\n",
    "                return marks\n",
    "            else:\n",
    "                print(\"Error: Marks must be between 0 and 50. Please enter again.\")\n",
    "        except ValueError:\n",
    "            print(\"Error: Please enter a valid number for marks.\")\n",
    "\n",
    "marks_subject_1 = get_valid_marks(1)\n",
    "marks_subject_2 = get_valid_marks(2)\n",
    "marks_subject_3 = get_valid_marks(3)\n",
    "\n",
    "grade_1 = calculate_grade(marks_subject_1)\n",
    "grade_2 = calculate_grade(marks_subject_2)\n",
    "grade_3 = calculate_grade(marks_subject_3)\n",
    "\n",
    "print(f\"Subject 1: Marks = {marks_subject_1}, Grade = {grade_1}\")\n",
    "print(f\"Subject 2: Marks = {marks_subject_2}, Grade = {grade_2}\")\n",
    "print(f\"Subject 3: Marks = {marks_subject_3}, Grade = {grade_3}\")\n",
    "\n",
    "total_marks = marks_subject_1 + marks_subject_2 + marks_subject_3\n",
    "average_marks = total_marks / 3\n",
    "\n",
    "print(f\"Total Marks (out of 150): {total_marks}\")\n",
    "print(f\"Average Marks: {average_marks:.2f}\")\n"
   ]
  },
  {
   "cell_type": "markdown",
   "id": "ea9662f9-3105-41f3-8d53-85ec0e4cd6ff",
   "metadata": {},
   "source": [
    "Create a program to calculate the monthly electricity bill based on usage."
   ]
  },
  {
   "cell_type": "code",
   "execution_count": 10,
   "id": "a70bad02-3ade-4579-b51f-cb1be21c8995",
   "metadata": {},
   "outputs": [
    {
     "name": "stdin",
     "output_type": "stream",
     "text": [
      "Enter the number of units consumed:  678\n"
     ]
    },
    {
     "name": "stdout",
     "output_type": "stream",
     "text": [
      "The total electricity bill for 678.0 units is: $698.60\n"
     ]
    }
   ],
   "source": [
    "def calculate_bill(units):\n",
    "    if units <= 100:\n",
    "        return units * 0.5\n",
    "    elif units <= 200:\n",
    "        return (100 * 0.5) + ((units - 100) * 0.75)\n",
    "    else:\n",
    "        return (100 * 0.5) + (100 * 0.75) + ((units - 200) * 1.2)\n",
    "\n",
    "def get_valid_units():\n",
    "    while True:\n",
    "        try:\n",
    "            units = float(input(\"Enter the number of units consumed: \"))\n",
    "            if units >= 0:\n",
    "                return units\n",
    "            else:\n",
    "                print(\"Error: Units cannot be negative. Please enter a valid number.\")\n",
    "        except ValueError:\n",
    "            print(\"Error: Please enter a valid number for units.\")\n",
    "\n",
    "units_consumed = get_valid_units()\n",
    "\n",
    "bill_amount = calculate_bill(units_consumed)\n",
    "\n",
    "print(f\"The total electricity bill for {units_consumed} units is: ${bill_amount:.2f}\")"
   ]
  },
  {
   "cell_type": "markdown",
   "id": "2a2c0641-fc44-45f4-aff0-54e52f1ebc63",
   "metadata": {},
   "source": [
    "Write a program to calculate statistics for a list of numbers."
   ]
  },
  {
   "cell_type": "code",
   "execution_count": 13,
   "id": "d8704535-acc1-4253-ab1a-5ed47b048699",
   "metadata": {},
   "outputs": [
    {
     "name": "stdin",
     "output_type": "stream",
     "text": [
      "Enter number 1:  5\n",
      "Enter number 2:  8\n",
      "Enter number 3:  9\n",
      "Enter number 4:  3\n",
      "Enter number 5:  4\n",
      "Enter number 6:  5\n",
      "Enter number 7:  0\n",
      "Enter number 8:  1\n",
      "Enter number 9:  2\n",
      "Enter number 10:  56\n"
     ]
    },
    {
     "name": "stdout",
     "output_type": "stream",
     "text": [
      "The smallest number is: 0.0\n",
      "The largest number is: 56.0\n",
      "The average of the numbers is: 9.30\n"
     ]
    }
   ],
   "source": [
    "def get_valid_number(prompt):\n",
    "    while True:\n",
    "        try:\n",
    "            number = float(input(prompt))\n",
    "            return number\n",
    "        except ValueError:\n",
    "            print(\"Error: Please enter a valid number.\")\n",
    "\n",
    "numbers = []\n",
    "\n",
    "for i in range(1, 11):\n",
    "    number = get_valid_number(f\"Enter number {i}: \")\n",
    "    numbers.append(number)\n",
    "\n",
    "smallest = min(numbers)\n",
    "largest = max(numbers)\n",
    "average = sum(numbers) / len(numbers)\n",
    "\n",
    "print(f\"The smallest number is: {smallest}\")\n",
    "print(f\"The largest number is: {largest}\")\n",
    "print(f\"The average of the numbers is: {average:.2f}\")\n"
   ]
  },
  {
   "cell_type": "markdown",
   "id": "d1bd6e84-084f-4fb7-98df-7cf6d71b3574",
   "metadata": {},
   "source": [
    "Write a program to calculate the total cost of grocery items purchased."
   ]
  },
  {
   "cell_type": "code",
   "execution_count": 2,
   "id": "5b2b0a08-f32c-4068-b632-7c88827edf5a",
   "metadata": {},
   "outputs": [
    {
     "name": "stdin",
     "output_type": "stream",
     "text": [
      "Enter the number of grocery items:  3\n"
     ]
    },
    {
     "name": "stdout",
     "output_type": "stream",
     "text": [
      "\n",
      "Bill Summary:\n",
      "Item                Quantity  Price     Total     \n"
     ]
    },
    {
     "name": "stdin",
     "output_type": "stream",
     "text": [
      "\n",
      "Enter the name of item 1:  Dates\n",
      "Enter the price of the item: $ 5\n",
      "Enter the quantity of the item:  2\n"
     ]
    },
    {
     "name": "stdout",
     "output_type": "stream",
     "text": [
      "Dates               2         5.00      10.00     \n"
     ]
    },
    {
     "name": "stdin",
     "output_type": "stream",
     "text": [
      "\n",
      "Enter the name of item 2:  Sugar\n",
      "Enter the price of the item: $ 1\n",
      "Enter the quantity of the item:  7\n"
     ]
    },
    {
     "name": "stdout",
     "output_type": "stream",
     "text": [
      "Sugar               7         1.00      7.00      \n"
     ]
    },
    {
     "name": "stdin",
     "output_type": "stream",
     "text": [
      "\n",
      "Enter the name of item 3:  Milk\n",
      "Enter the price of the item: $ 0.5\n",
      "Enter the quantity of the item:  15\n"
     ]
    },
    {
     "name": "stdout",
     "output_type": "stream",
     "text": [
      "Milk                15        0.50      7.50      \n",
      "\n",
      "Total Cost: $24.50\n"
     ]
    }
   ],
   "source": [
    "def get_valid_price():\n",
    "    while True:\n",
    "        try:\n",
    "            price = float(input(\"Enter the price of the item: $\"))\n",
    "            if price > 0:\n",
    "                return price\n",
    "            else:\n",
    "                print(\"Error: Price must be positive. Please enter a valid price.\")\n",
    "        except ValueError:\n",
    "            print(\"Error: Please enter a valid price.\")\n",
    "\n",
    "def get_valid_quantity():\n",
    "    while True:\n",
    "        try:\n",
    "            quantity = int(input(\"Enter the quantity of the item: \"))\n",
    "            if quantity > 0:\n",
    "                return quantity\n",
    "            else:\n",
    "                print(\"Error: Quantity must be positive. Please enter a valid quantity.\")\n",
    "        except ValueError:\n",
    "            print(\"Error: Please enter a valid quantity.\")\n",
    "\n",
    "while True:\n",
    "    try:\n",
    "        num_items = int(input(\"Enter the number of grocery items: \"))\n",
    "        if num_items > 0:\n",
    "            break\n",
    "        else:\n",
    "            print(\"Error: Number of items must be positive.\")\n",
    "    except ValueError:\n",
    "        print(\"Error: Please enter a valid number.\")\n",
    "\n",
    "total_cost = 0\n",
    "\n",
    "print(\"\\nBill Summary:\")\n",
    "print(f\"{'Item':<20}{'Quantity':<10}{'Price':<10}{'Total':<10}\")\n",
    "\n",
    "for i in range(num_items):\n",
    "    item_name = input(f\"\\nEnter the name of item {i+1}: \")\n",
    "    price = get_valid_price()\n",
    "    quantity = get_valid_quantity()\n",
    "\n",
    "    item_total = price * quantity\n",
    "    total_cost += item_total\n",
    "\n",
    "    print(f\"{item_name:<20}{quantity:<10}{price:<10.2f}{item_total:<10.2f}\")\n",
    "\n",
    "print(\"\\nTotal Cost: ${:.2f}\".format(total_cost))"
   ]
  },
  {
   "cell_type": "code",
   "execution_count": null,
   "id": "9c489b8f-a4e2-42ff-86c2-80023dd4a4a6",
   "metadata": {},
   "outputs": [],
   "source": []
  }
 ],
 "metadata": {
  "kernelspec": {
   "display_name": "Python 3 (ipykernel)",
   "language": "python",
   "name": "python3"
  },
  "language_info": {
   "codemirror_mode": {
    "name": "ipython",
    "version": 3
   },
   "file_extension": ".py",
   "mimetype": "text/x-python",
   "name": "python",
   "nbconvert_exporter": "python",
   "pygments_lexer": "ipython3",
   "version": "3.12.7"
  }
 },
 "nbformat": 4,
 "nbformat_minor": 5
}
